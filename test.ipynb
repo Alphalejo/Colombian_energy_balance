{
 "cells": [
  {
   "cell_type": "code",
   "execution_count": 21,
   "id": "fdd73db0",
   "metadata": {},
   "outputs": [],
   "source": [
    "import pandas as pd\n",
    "import requests"
   ]
  },
  {
   "cell_type": "code",
   "execution_count": null,
   "id": "3dd881f3",
   "metadata": {},
   "outputs": [],
   "source": [
    "\n",
    "# Natural Gas Production\n",
    "raw_gas_production_df = pd.read_csv(\"https://ourworldindata.org/grapher/gas-production-by-country.csv?v=1&csvType=filtered&useColumnShortNames=true&time=earliest..2024&country=~COL&overlay=download-data\", storage_options = {'User-Agent': 'Our World In Data data fetch/1.0'})\n",
    "\n",
    "# Natural Gas Consumption\n",
    "raw_gas_consumption_df = pd.read_csv(\"https://ourworldindata.org/grapher/gas-consumption-by-country.csv?v=1&csvType=filtered&useColumnShortNames=true&tab=line&country=~COL&mapSelect=~COL&overlay=download-data\", storage_options = {'User-Agent': 'Our World In Data data fetch/1.0'})\n",
    "\n",
    "# Energy Consumption by Source\n",
    "#raw_source_consumtion_df = pd.read_csv(\"https://ourworldindata.org/grapher/primary-sub-energy-source.csv?v=1&csvType=filtered&useColumnShortNames=true&country=~COL&overlay=download-data\", storage_options = {'User-Agent': 'Our World In Data data fetch/1.0'})\n",
    "\n",
    "# Electricity Production by Sorce\n",
    "#raw_source_production_df = pd.read_csv(\"https://ourworldindata.org/grapher/electricity-prod-source-stacked.csv?v=1&csvType=filtered&useColumnShortNames=true&country=~COL&overlay=download-data\", storage_options = {'User-Agent': 'Our World In Data data fetch/1.0'})"
   ]
  },
  {
   "cell_type": "code",
   "execution_count": 23,
   "id": "7e871953",
   "metadata": {},
   "outputs": [
    {
     "data": {
      "application/vnd.microsoft.datawrangler.viewer.v0+json": {
       "columns": [
        {
         "name": "index",
         "rawType": "int64",
         "type": "integer"
        },
        {
         "name": "Entity",
         "rawType": "object",
         "type": "string"
        },
        {
         "name": "Code",
         "rawType": "object",
         "type": "string"
        },
        {
         "name": "Year",
         "rawType": "int64",
         "type": "integer"
        },
        {
         "name": "gas_production__twh",
         "rawType": "float64",
         "type": "float"
        }
       ],
       "ref": "82768013-3323-4c53-82ff-9f26045ca533",
       "rows": [
        [
         "0",
         "Colombia",
         "COL",
         "1900",
         "0.0"
        ],
        [
         "1",
         "Colombia",
         "COL",
         "1901",
         "0.0"
        ],
        [
         "2",
         "Colombia",
         "COL",
         "1902",
         "0.0"
        ],
        [
         "3",
         "Colombia",
         "COL",
         "1903",
         "0.0"
        ],
        [
         "4",
         "Colombia",
         "COL",
         "1904",
         "0.0"
        ],
        [
         "5",
         "Colombia",
         "COL",
         "1905",
         "0.0"
        ],
        [
         "6",
         "Colombia",
         "COL",
         "1906",
         "0.0"
        ],
        [
         "7",
         "Colombia",
         "COL",
         "1907",
         "0.0"
        ],
        [
         "8",
         "Colombia",
         "COL",
         "1908",
         "0.0"
        ],
        [
         "9",
         "Colombia",
         "COL",
         "1909",
         "0.0"
        ],
        [
         "10",
         "Colombia",
         "COL",
         "1910",
         "0.0"
        ],
        [
         "11",
         "Colombia",
         "COL",
         "1911",
         "0.0"
        ],
        [
         "12",
         "Colombia",
         "COL",
         "1912",
         "0.0"
        ],
        [
         "13",
         "Colombia",
         "COL",
         "1913",
         "0.0"
        ],
        [
         "14",
         "Colombia",
         "COL",
         "1914",
         "0.0"
        ],
        [
         "15",
         "Colombia",
         "COL",
         "1915",
         "0.0"
        ],
        [
         "16",
         "Colombia",
         "COL",
         "1916",
         "0.0"
        ],
        [
         "17",
         "Colombia",
         "COL",
         "1917",
         "0.0"
        ],
        [
         "18",
         "Colombia",
         "COL",
         "1918",
         "0.0"
        ],
        [
         "19",
         "Colombia",
         "COL",
         "1919",
         "0.0"
        ],
        [
         "20",
         "Colombia",
         "COL",
         "1920",
         "0.0"
        ],
        [
         "21",
         "Colombia",
         "COL",
         "1921",
         "0.0"
        ],
        [
         "22",
         "Colombia",
         "COL",
         "1922",
         "0.0"
        ],
        [
         "23",
         "Colombia",
         "COL",
         "1923",
         "0.0"
        ],
        [
         "24",
         "Colombia",
         "COL",
         "1924",
         "0.0"
        ],
        [
         "25",
         "Colombia",
         "COL",
         "1925",
         "0.0"
        ],
        [
         "26",
         "Colombia",
         "COL",
         "1926",
         "0.0"
        ],
        [
         "27",
         "Colombia",
         "COL",
         "1927",
         "0.0"
        ],
        [
         "28",
         "Colombia",
         "COL",
         "1928",
         "0.0"
        ],
        [
         "29",
         "Colombia",
         "COL",
         "1929",
         "0.0"
        ],
        [
         "30",
         "Colombia",
         "COL",
         "1930",
         "0.0"
        ],
        [
         "31",
         "Colombia",
         "COL",
         "1931",
         "0.0"
        ],
        [
         "32",
         "Colombia",
         "COL",
         "1932",
         "0.0"
        ],
        [
         "33",
         "Colombia",
         "COL",
         "1933",
         "0.0"
        ],
        [
         "34",
         "Colombia",
         "COL",
         "1934",
         "0.0"
        ],
        [
         "35",
         "Colombia",
         "COL",
         "1935",
         "0.0"
        ],
        [
         "36",
         "Colombia",
         "COL",
         "1936",
         "0.0"
        ],
        [
         "37",
         "Colombia",
         "COL",
         "1937",
         "6.417572"
        ],
        [
         "38",
         "Colombia",
         "COL",
         "1938",
         "6.5696735"
        ],
        [
         "39",
         "Colombia",
         "COL",
         "1939",
         "6.721775"
        ],
        [
         "40",
         "Colombia",
         "COL",
         "1940",
         "6.873877"
        ],
        [
         "41",
         "Colombia",
         "COL",
         "1941",
         "7.0259786"
        ],
        [
         "42",
         "Colombia",
         "COL",
         "1942",
         "7.17808"
        ],
        [
         "43",
         "Colombia",
         "COL",
         "1943",
         "7.3301816"
        ],
        [
         "44",
         "Colombia",
         "COL",
         "1944",
         "7.482283"
        ],
        [
         "45",
         "Colombia",
         "COL",
         "1945",
         "7.634385"
        ],
        [
         "46",
         "Colombia",
         "COL",
         "1946",
         "7.7864866"
        ],
        [
         "47",
         "Colombia",
         "COL",
         "1947",
         "7.070632"
        ],
        [
         "48",
         "Colombia",
         "COL",
         "1948",
         "4.3830385"
        ],
        [
         "49",
         "Colombia",
         "COL",
         "1949",
         "6.2040715"
        ]
       ],
       "shape": {
        "columns": 4,
        "rows": 125
       }
      },
      "text/html": [
       "<div>\n",
       "<style scoped>\n",
       "    .dataframe tbody tr th:only-of-type {\n",
       "        vertical-align: middle;\n",
       "    }\n",
       "\n",
       "    .dataframe tbody tr th {\n",
       "        vertical-align: top;\n",
       "    }\n",
       "\n",
       "    .dataframe thead th {\n",
       "        text-align: right;\n",
       "    }\n",
       "</style>\n",
       "<table border=\"1\" class=\"dataframe\">\n",
       "  <thead>\n",
       "    <tr style=\"text-align: right;\">\n",
       "      <th></th>\n",
       "      <th>Entity</th>\n",
       "      <th>Code</th>\n",
       "      <th>Year</th>\n",
       "      <th>gas_production__twh</th>\n",
       "    </tr>\n",
       "  </thead>\n",
       "  <tbody>\n",
       "    <tr>\n",
       "      <th>0</th>\n",
       "      <td>Colombia</td>\n",
       "      <td>COL</td>\n",
       "      <td>1900</td>\n",
       "      <td>0.000000</td>\n",
       "    </tr>\n",
       "    <tr>\n",
       "      <th>1</th>\n",
       "      <td>Colombia</td>\n",
       "      <td>COL</td>\n",
       "      <td>1901</td>\n",
       "      <td>0.000000</td>\n",
       "    </tr>\n",
       "    <tr>\n",
       "      <th>2</th>\n",
       "      <td>Colombia</td>\n",
       "      <td>COL</td>\n",
       "      <td>1902</td>\n",
       "      <td>0.000000</td>\n",
       "    </tr>\n",
       "    <tr>\n",
       "      <th>3</th>\n",
       "      <td>Colombia</td>\n",
       "      <td>COL</td>\n",
       "      <td>1903</td>\n",
       "      <td>0.000000</td>\n",
       "    </tr>\n",
       "    <tr>\n",
       "      <th>4</th>\n",
       "      <td>Colombia</td>\n",
       "      <td>COL</td>\n",
       "      <td>1904</td>\n",
       "      <td>0.000000</td>\n",
       "    </tr>\n",
       "    <tr>\n",
       "      <th>...</th>\n",
       "      <td>...</td>\n",
       "      <td>...</td>\n",
       "      <td>...</td>\n",
       "      <td>...</td>\n",
       "    </tr>\n",
       "    <tr>\n",
       "      <th>120</th>\n",
       "      <td>Colombia</td>\n",
       "      <td>COL</td>\n",
       "      <td>2020</td>\n",
       "      <td>124.550316</td>\n",
       "    </tr>\n",
       "    <tr>\n",
       "      <th>121</th>\n",
       "      <td>Colombia</td>\n",
       "      <td>COL</td>\n",
       "      <td>2021</td>\n",
       "      <td>125.664420</td>\n",
       "    </tr>\n",
       "    <tr>\n",
       "      <th>122</th>\n",
       "      <td>Colombia</td>\n",
       "      <td>COL</td>\n",
       "      <td>2022</td>\n",
       "      <td>124.322790</td>\n",
       "    </tr>\n",
       "    <tr>\n",
       "      <th>123</th>\n",
       "      <td>Colombia</td>\n",
       "      <td>COL</td>\n",
       "      <td>2023</td>\n",
       "      <td>120.612000</td>\n",
       "    </tr>\n",
       "    <tr>\n",
       "      <th>124</th>\n",
       "      <td>Colombia</td>\n",
       "      <td>COL</td>\n",
       "      <td>2024</td>\n",
       "      <td>110.954440</td>\n",
       "    </tr>\n",
       "  </tbody>\n",
       "</table>\n",
       "<p>125 rows × 4 columns</p>\n",
       "</div>"
      ],
      "text/plain": [
       "       Entity Code  Year  gas_production__twh\n",
       "0    Colombia  COL  1900             0.000000\n",
       "1    Colombia  COL  1901             0.000000\n",
       "2    Colombia  COL  1902             0.000000\n",
       "3    Colombia  COL  1903             0.000000\n",
       "4    Colombia  COL  1904             0.000000\n",
       "..        ...  ...   ...                  ...\n",
       "120  Colombia  COL  2020           124.550316\n",
       "121  Colombia  COL  2021           125.664420\n",
       "122  Colombia  COL  2022           124.322790\n",
       "123  Colombia  COL  2023           120.612000\n",
       "124  Colombia  COL  2024           110.954440\n",
       "\n",
       "[125 rows x 4 columns]"
      ]
     },
     "execution_count": 23,
     "metadata": {},
     "output_type": "execute_result"
    }
   ],
   "source": [
    "raw_gas_production_df"
   ]
  },
  {
   "cell_type": "code",
   "execution_count": 39,
   "id": "22e0f731",
   "metadata": {},
   "outputs": [],
   "source": [
    "gas_production_df = raw_gas_production_df[raw_gas_production_df[\"Year\"] >= 1965 ][[\"Year\", \"gas_production__twh\"]].copy()\n",
    "gas_consumption_df = raw_gas_consumption_df[raw_gas_consumption_df[\"Year\"] >= 1965 ][[\"Year\", \"gas_consumption_twh\"]].copy()\n",
    "\n",
    "gas_balance = pd.merge(gas_production_df, gas_consumption_df, on=\"Year\", how=\"outer\")"
   ]
  },
  {
   "cell_type": "code",
   "execution_count": 40,
   "id": "faa84c74",
   "metadata": {},
   "outputs": [
    {
     "data": {
      "application/vnd.microsoft.datawrangler.viewer.v0+json": {
       "columns": [
        {
         "name": "index",
         "rawType": "int64",
         "type": "integer"
        },
        {
         "name": "Year",
         "rawType": "int64",
         "type": "integer"
        },
        {
         "name": "gas_production__twh",
         "rawType": "float64",
         "type": "float"
        },
        {
         "name": "gas_consumption_twh",
         "rawType": "float64",
         "type": "float"
        }
       ],
       "ref": "24072a7a-46ee-43e9-aa44-db264d721387",
       "rows": [
        [
         "0",
         "1965",
         "11.378318",
         "8.95125"
        ],
        [
         "1",
         "1966",
         "13.8021755",
         "9.33625"
        ],
        [
         "2",
         "1967",
         "14.4552355",
         "11.55"
        ],
        [
         "3",
         "1968",
         "15.233884",
         "11.771375"
        ],
        [
         "4",
         "1969",
         "16.80374",
         "12.854188"
        ],
        [
         "5",
         "1970",
         "12.493251",
         "12.493251"
        ],
        [
         "6",
         "1971",
         "13.0045",
         "13.0045"
        ],
        [
         "7",
         "1972",
         "15.8855",
         "15.88525"
        ],
        [
         "8",
         "1973",
         "16.46",
         "16.46"
        ],
        [
         "9",
         "1974",
         "17.1255",
         "17.12575"
        ],
        [
         "10",
         "1975",
         "14.91575",
         "16.14225"
        ],
        [
         "11",
         "1976",
         "15.148",
         "17.2045"
        ],
        [
         "12",
         "1977",
         "17.174751",
         "19.254751"
        ],
        [
         "13",
         "1978",
         "22.808249",
         "23.850752"
        ],
        [
         "14",
         "1979",
         "26.056002",
         "25.7215"
        ],
        [
         "15",
         "1980",
         "27.844751",
         "28.3715"
        ],
        [
         "16",
         "1981",
         "30.519",
         "30.6345"
        ],
        [
         "17",
         "1982",
         "32.536",
         "33.03125"
        ],
        [
         "18",
         "1983",
         "35.745502",
         "36.55975"
        ],
        [
         "19",
         "1984",
         "36.340748",
         "36.30575"
        ],
        [
         "20",
         "1985",
         "37.0675",
         "36.43225"
        ],
        [
         "21",
         "1986",
         "36.1265",
         "37.070747"
        ],
        [
         "22",
         "1987",
         "38.069252",
         "37.636253"
        ],
        [
         "23",
         "1988",
         "36.71075",
         "37.77825"
        ],
        [
         "24",
         "1989",
         "37.1025",
         "36.059002"
        ],
        [
         "25",
         "1990",
         "39.246",
         "37.4195"
        ],
        [
         "26",
         "1991",
         "38.8615",
         "38.5825"
        ],
        [
         "27",
         "1992",
         "39.809",
         "37.965748"
        ],
        [
         "28",
         "1993",
         "38.97375",
         "39.41675"
        ],
        [
         "29",
         "1994",
         "40.2045",
         "38.996502"
        ],
        [
         "30",
         "1995",
         "42.149",
         "41.472504"
        ],
        [
         "31",
         "1996",
         "45.468502",
         "45.102753"
        ],
        [
         "32",
         "1997",
         "56.74",
         "56.74"
        ],
        [
         "33",
         "1998",
         "64.8955",
         "65.88625"
        ],
        [
         "34",
         "1999",
         "56.929",
         "56.909"
        ],
        [
         "35",
         "2000",
         "57.358074",
         "57.358074"
        ],
        [
         "36",
         "2001",
         "59.38993",
         "59.38993"
        ],
        [
         "37",
         "2002",
         "59.986813",
         "59.986813"
        ],
        [
         "38",
         "2003",
         "57.499798",
         "57.499798"
        ],
        [
         "39",
         "2004",
         "61.3482",
         "61.3482"
        ],
        [
         "40",
         "2005",
         "64.46344",
         "64.46344"
        ],
        [
         "41",
         "2006",
         "67.64682",
         "67.64682"
        ],
        [
         "42",
         "2007",
         "72.57884",
         "71.61634"
        ],
        [
         "43",
         "2008",
         "87.188644",
         "72.751144"
        ],
        [
         "44",
         "2009",
         "101.118195",
         "83.7932"
        ],
        [
         "45",
         "2010",
         "108.433876",
         "87.45138"
        ],
        [
         "46",
         "2011",
         "105.458466",
         "85.14971"
        ],
        [
         "47",
         "2012",
         "115.25648",
         "94.65898"
        ],
        [
         "48",
         "2013",
         "132.23476",
         "104.77255"
        ],
        [
         "49",
         "2014",
         "123.32835",
         "113.840614"
        ]
       ],
       "shape": {
        "columns": 3,
        "rows": 60
       }
      },
      "text/html": [
       "<div>\n",
       "<style scoped>\n",
       "    .dataframe tbody tr th:only-of-type {\n",
       "        vertical-align: middle;\n",
       "    }\n",
       "\n",
       "    .dataframe tbody tr th {\n",
       "        vertical-align: top;\n",
       "    }\n",
       "\n",
       "    .dataframe thead th {\n",
       "        text-align: right;\n",
       "    }\n",
       "</style>\n",
       "<table border=\"1\" class=\"dataframe\">\n",
       "  <thead>\n",
       "    <tr style=\"text-align: right;\">\n",
       "      <th></th>\n",
       "      <th>Year</th>\n",
       "      <th>gas_production__twh</th>\n",
       "      <th>gas_consumption_twh</th>\n",
       "    </tr>\n",
       "  </thead>\n",
       "  <tbody>\n",
       "    <tr>\n",
       "      <th>0</th>\n",
       "      <td>1965</td>\n",
       "      <td>11.378318</td>\n",
       "      <td>8.951250</td>\n",
       "    </tr>\n",
       "    <tr>\n",
       "      <th>1</th>\n",
       "      <td>1966</td>\n",
       "      <td>13.802176</td>\n",
       "      <td>9.336250</td>\n",
       "    </tr>\n",
       "    <tr>\n",
       "      <th>2</th>\n",
       "      <td>1967</td>\n",
       "      <td>14.455236</td>\n",
       "      <td>11.550000</td>\n",
       "    </tr>\n",
       "    <tr>\n",
       "      <th>3</th>\n",
       "      <td>1968</td>\n",
       "      <td>15.233884</td>\n",
       "      <td>11.771375</td>\n",
       "    </tr>\n",
       "    <tr>\n",
       "      <th>4</th>\n",
       "      <td>1969</td>\n",
       "      <td>16.803740</td>\n",
       "      <td>12.854188</td>\n",
       "    </tr>\n",
       "    <tr>\n",
       "      <th>5</th>\n",
       "      <td>1970</td>\n",
       "      <td>12.493251</td>\n",
       "      <td>12.493251</td>\n",
       "    </tr>\n",
       "    <tr>\n",
       "      <th>6</th>\n",
       "      <td>1971</td>\n",
       "      <td>13.004500</td>\n",
       "      <td>13.004500</td>\n",
       "    </tr>\n",
       "    <tr>\n",
       "      <th>7</th>\n",
       "      <td>1972</td>\n",
       "      <td>15.885500</td>\n",
       "      <td>15.885250</td>\n",
       "    </tr>\n",
       "    <tr>\n",
       "      <th>8</th>\n",
       "      <td>1973</td>\n",
       "      <td>16.460000</td>\n",
       "      <td>16.460000</td>\n",
       "    </tr>\n",
       "    <tr>\n",
       "      <th>9</th>\n",
       "      <td>1974</td>\n",
       "      <td>17.125500</td>\n",
       "      <td>17.125750</td>\n",
       "    </tr>\n",
       "    <tr>\n",
       "      <th>10</th>\n",
       "      <td>1975</td>\n",
       "      <td>14.915750</td>\n",
       "      <td>16.142250</td>\n",
       "    </tr>\n",
       "    <tr>\n",
       "      <th>11</th>\n",
       "      <td>1976</td>\n",
       "      <td>15.148000</td>\n",
       "      <td>17.204500</td>\n",
       "    </tr>\n",
       "    <tr>\n",
       "      <th>12</th>\n",
       "      <td>1977</td>\n",
       "      <td>17.174751</td>\n",
       "      <td>19.254751</td>\n",
       "    </tr>\n",
       "    <tr>\n",
       "      <th>13</th>\n",
       "      <td>1978</td>\n",
       "      <td>22.808249</td>\n",
       "      <td>23.850752</td>\n",
       "    </tr>\n",
       "    <tr>\n",
       "      <th>14</th>\n",
       "      <td>1979</td>\n",
       "      <td>26.056002</td>\n",
       "      <td>25.721500</td>\n",
       "    </tr>\n",
       "    <tr>\n",
       "      <th>15</th>\n",
       "      <td>1980</td>\n",
       "      <td>27.844751</td>\n",
       "      <td>28.371500</td>\n",
       "    </tr>\n",
       "    <tr>\n",
       "      <th>16</th>\n",
       "      <td>1981</td>\n",
       "      <td>30.519000</td>\n",
       "      <td>30.634500</td>\n",
       "    </tr>\n",
       "    <tr>\n",
       "      <th>17</th>\n",
       "      <td>1982</td>\n",
       "      <td>32.536000</td>\n",
       "      <td>33.031250</td>\n",
       "    </tr>\n",
       "    <tr>\n",
       "      <th>18</th>\n",
       "      <td>1983</td>\n",
       "      <td>35.745502</td>\n",
       "      <td>36.559750</td>\n",
       "    </tr>\n",
       "    <tr>\n",
       "      <th>19</th>\n",
       "      <td>1984</td>\n",
       "      <td>36.340748</td>\n",
       "      <td>36.305750</td>\n",
       "    </tr>\n",
       "    <tr>\n",
       "      <th>20</th>\n",
       "      <td>1985</td>\n",
       "      <td>37.067500</td>\n",
       "      <td>36.432250</td>\n",
       "    </tr>\n",
       "    <tr>\n",
       "      <th>21</th>\n",
       "      <td>1986</td>\n",
       "      <td>36.126500</td>\n",
       "      <td>37.070747</td>\n",
       "    </tr>\n",
       "    <tr>\n",
       "      <th>22</th>\n",
       "      <td>1987</td>\n",
       "      <td>38.069252</td>\n",
       "      <td>37.636253</td>\n",
       "    </tr>\n",
       "    <tr>\n",
       "      <th>23</th>\n",
       "      <td>1988</td>\n",
       "      <td>36.710750</td>\n",
       "      <td>37.778250</td>\n",
       "    </tr>\n",
       "    <tr>\n",
       "      <th>24</th>\n",
       "      <td>1989</td>\n",
       "      <td>37.102500</td>\n",
       "      <td>36.059002</td>\n",
       "    </tr>\n",
       "    <tr>\n",
       "      <th>25</th>\n",
       "      <td>1990</td>\n",
       "      <td>39.246000</td>\n",
       "      <td>37.419500</td>\n",
       "    </tr>\n",
       "    <tr>\n",
       "      <th>26</th>\n",
       "      <td>1991</td>\n",
       "      <td>38.861500</td>\n",
       "      <td>38.582500</td>\n",
       "    </tr>\n",
       "    <tr>\n",
       "      <th>27</th>\n",
       "      <td>1992</td>\n",
       "      <td>39.809000</td>\n",
       "      <td>37.965748</td>\n",
       "    </tr>\n",
       "    <tr>\n",
       "      <th>28</th>\n",
       "      <td>1993</td>\n",
       "      <td>38.973750</td>\n",
       "      <td>39.416750</td>\n",
       "    </tr>\n",
       "    <tr>\n",
       "      <th>29</th>\n",
       "      <td>1994</td>\n",
       "      <td>40.204500</td>\n",
       "      <td>38.996502</td>\n",
       "    </tr>\n",
       "    <tr>\n",
       "      <th>30</th>\n",
       "      <td>1995</td>\n",
       "      <td>42.149000</td>\n",
       "      <td>41.472504</td>\n",
       "    </tr>\n",
       "    <tr>\n",
       "      <th>31</th>\n",
       "      <td>1996</td>\n",
       "      <td>45.468502</td>\n",
       "      <td>45.102753</td>\n",
       "    </tr>\n",
       "    <tr>\n",
       "      <th>32</th>\n",
       "      <td>1997</td>\n",
       "      <td>56.740000</td>\n",
       "      <td>56.740000</td>\n",
       "    </tr>\n",
       "    <tr>\n",
       "      <th>33</th>\n",
       "      <td>1998</td>\n",
       "      <td>64.895500</td>\n",
       "      <td>65.886250</td>\n",
       "    </tr>\n",
       "    <tr>\n",
       "      <th>34</th>\n",
       "      <td>1999</td>\n",
       "      <td>56.929000</td>\n",
       "      <td>56.909000</td>\n",
       "    </tr>\n",
       "    <tr>\n",
       "      <th>35</th>\n",
       "      <td>2000</td>\n",
       "      <td>57.358074</td>\n",
       "      <td>57.358074</td>\n",
       "    </tr>\n",
       "    <tr>\n",
       "      <th>36</th>\n",
       "      <td>2001</td>\n",
       "      <td>59.389930</td>\n",
       "      <td>59.389930</td>\n",
       "    </tr>\n",
       "    <tr>\n",
       "      <th>37</th>\n",
       "      <td>2002</td>\n",
       "      <td>59.986813</td>\n",
       "      <td>59.986813</td>\n",
       "    </tr>\n",
       "    <tr>\n",
       "      <th>38</th>\n",
       "      <td>2003</td>\n",
       "      <td>57.499798</td>\n",
       "      <td>57.499798</td>\n",
       "    </tr>\n",
       "    <tr>\n",
       "      <th>39</th>\n",
       "      <td>2004</td>\n",
       "      <td>61.348200</td>\n",
       "      <td>61.348200</td>\n",
       "    </tr>\n",
       "    <tr>\n",
       "      <th>40</th>\n",
       "      <td>2005</td>\n",
       "      <td>64.463440</td>\n",
       "      <td>64.463440</td>\n",
       "    </tr>\n",
       "    <tr>\n",
       "      <th>41</th>\n",
       "      <td>2006</td>\n",
       "      <td>67.646820</td>\n",
       "      <td>67.646820</td>\n",
       "    </tr>\n",
       "    <tr>\n",
       "      <th>42</th>\n",
       "      <td>2007</td>\n",
       "      <td>72.578840</td>\n",
       "      <td>71.616340</td>\n",
       "    </tr>\n",
       "    <tr>\n",
       "      <th>43</th>\n",
       "      <td>2008</td>\n",
       "      <td>87.188644</td>\n",
       "      <td>72.751144</td>\n",
       "    </tr>\n",
       "    <tr>\n",
       "      <th>44</th>\n",
       "      <td>2009</td>\n",
       "      <td>101.118195</td>\n",
       "      <td>83.793200</td>\n",
       "    </tr>\n",
       "    <tr>\n",
       "      <th>45</th>\n",
       "      <td>2010</td>\n",
       "      <td>108.433876</td>\n",
       "      <td>87.451380</td>\n",
       "    </tr>\n",
       "    <tr>\n",
       "      <th>46</th>\n",
       "      <td>2011</td>\n",
       "      <td>105.458466</td>\n",
       "      <td>85.149710</td>\n",
       "    </tr>\n",
       "    <tr>\n",
       "      <th>47</th>\n",
       "      <td>2012</td>\n",
       "      <td>115.256480</td>\n",
       "      <td>94.658980</td>\n",
       "    </tr>\n",
       "    <tr>\n",
       "      <th>48</th>\n",
       "      <td>2013</td>\n",
       "      <td>132.234760</td>\n",
       "      <td>104.772550</td>\n",
       "    </tr>\n",
       "    <tr>\n",
       "      <th>49</th>\n",
       "      <td>2014</td>\n",
       "      <td>123.328350</td>\n",
       "      <td>113.840614</td>\n",
       "    </tr>\n",
       "    <tr>\n",
       "      <th>50</th>\n",
       "      <td>2015</td>\n",
       "      <td>116.103160</td>\n",
       "      <td>112.117294</td>\n",
       "    </tr>\n",
       "    <tr>\n",
       "      <th>51</th>\n",
       "      <td>2016</td>\n",
       "      <td>119.921170</td>\n",
       "      <td>120.684780</td>\n",
       "    </tr>\n",
       "    <tr>\n",
       "      <th>52</th>\n",
       "      <td>2017</td>\n",
       "      <td>117.524760</td>\n",
       "      <td>118.305330</td>\n",
       "    </tr>\n",
       "    <tr>\n",
       "      <th>53</th>\n",
       "      <td>2018</td>\n",
       "      <td>123.763390</td>\n",
       "      <td>127.299385</td>\n",
       "    </tr>\n",
       "    <tr>\n",
       "      <th>54</th>\n",
       "      <td>2019</td>\n",
       "      <td>126.182200</td>\n",
       "      <td>128.707730</td>\n",
       "    </tr>\n",
       "    <tr>\n",
       "      <th>55</th>\n",
       "      <td>2020</td>\n",
       "      <td>124.550316</td>\n",
       "      <td>131.226780</td>\n",
       "    </tr>\n",
       "    <tr>\n",
       "      <th>56</th>\n",
       "      <td>2021</td>\n",
       "      <td>125.664420</td>\n",
       "      <td>126.266290</td>\n",
       "    </tr>\n",
       "    <tr>\n",
       "      <th>57</th>\n",
       "      <td>2022</td>\n",
       "      <td>124.322790</td>\n",
       "      <td>125.850360</td>\n",
       "    </tr>\n",
       "    <tr>\n",
       "      <th>58</th>\n",
       "      <td>2023</td>\n",
       "      <td>120.612000</td>\n",
       "      <td>130.544370</td>\n",
       "    </tr>\n",
       "    <tr>\n",
       "      <th>59</th>\n",
       "      <td>2024</td>\n",
       "      <td>110.954440</td>\n",
       "      <td>134.499340</td>\n",
       "    </tr>\n",
       "  </tbody>\n",
       "</table>\n",
       "</div>"
      ],
      "text/plain": [
       "    Year  gas_production__twh  gas_consumption_twh\n",
       "0   1965            11.378318             8.951250\n",
       "1   1966            13.802176             9.336250\n",
       "2   1967            14.455236            11.550000\n",
       "3   1968            15.233884            11.771375\n",
       "4   1969            16.803740            12.854188\n",
       "5   1970            12.493251            12.493251\n",
       "6   1971            13.004500            13.004500\n",
       "7   1972            15.885500            15.885250\n",
       "8   1973            16.460000            16.460000\n",
       "9   1974            17.125500            17.125750\n",
       "10  1975            14.915750            16.142250\n",
       "11  1976            15.148000            17.204500\n",
       "12  1977            17.174751            19.254751\n",
       "13  1978            22.808249            23.850752\n",
       "14  1979            26.056002            25.721500\n",
       "15  1980            27.844751            28.371500\n",
       "16  1981            30.519000            30.634500\n",
       "17  1982            32.536000            33.031250\n",
       "18  1983            35.745502            36.559750\n",
       "19  1984            36.340748            36.305750\n",
       "20  1985            37.067500            36.432250\n",
       "21  1986            36.126500            37.070747\n",
       "22  1987            38.069252            37.636253\n",
       "23  1988            36.710750            37.778250\n",
       "24  1989            37.102500            36.059002\n",
       "25  1990            39.246000            37.419500\n",
       "26  1991            38.861500            38.582500\n",
       "27  1992            39.809000            37.965748\n",
       "28  1993            38.973750            39.416750\n",
       "29  1994            40.204500            38.996502\n",
       "30  1995            42.149000            41.472504\n",
       "31  1996            45.468502            45.102753\n",
       "32  1997            56.740000            56.740000\n",
       "33  1998            64.895500            65.886250\n",
       "34  1999            56.929000            56.909000\n",
       "35  2000            57.358074            57.358074\n",
       "36  2001            59.389930            59.389930\n",
       "37  2002            59.986813            59.986813\n",
       "38  2003            57.499798            57.499798\n",
       "39  2004            61.348200            61.348200\n",
       "40  2005            64.463440            64.463440\n",
       "41  2006            67.646820            67.646820\n",
       "42  2007            72.578840            71.616340\n",
       "43  2008            87.188644            72.751144\n",
       "44  2009           101.118195            83.793200\n",
       "45  2010           108.433876            87.451380\n",
       "46  2011           105.458466            85.149710\n",
       "47  2012           115.256480            94.658980\n",
       "48  2013           132.234760           104.772550\n",
       "49  2014           123.328350           113.840614\n",
       "50  2015           116.103160           112.117294\n",
       "51  2016           119.921170           120.684780\n",
       "52  2017           117.524760           118.305330\n",
       "53  2018           123.763390           127.299385\n",
       "54  2019           126.182200           128.707730\n",
       "55  2020           124.550316           131.226780\n",
       "56  2021           125.664420           126.266290\n",
       "57  2022           124.322790           125.850360\n",
       "58  2023           120.612000           130.544370\n",
       "59  2024           110.954440           134.499340"
      ]
     },
     "execution_count": 40,
     "metadata": {},
     "output_type": "execute_result"
    }
   ],
   "source": [
    "gas_balance"
   ]
  },
  {
   "cell_type": "code",
   "execution_count": null,
   "id": "e1cb725d",
   "metadata": {},
   "outputs": [],
   "source": []
  }
 ],
 "metadata": {
  "kernelspec": {
   "display_name": "colombian_energy_balance",
   "language": "python",
   "name": "python3"
  },
  "language_info": {
   "codemirror_mode": {
    "name": "ipython",
    "version": 3
   },
   "file_extension": ".py",
   "mimetype": "text/x-python",
   "name": "python",
   "nbconvert_exporter": "python",
   "pygments_lexer": "ipython3",
   "version": "3.11.9"
  }
 },
 "nbformat": 4,
 "nbformat_minor": 5
}
